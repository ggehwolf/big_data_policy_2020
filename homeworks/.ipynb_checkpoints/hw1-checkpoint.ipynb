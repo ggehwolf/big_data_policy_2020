{
 "cells": [
  {
   "cell_type": "markdown",
   "metadata": {},
   "source": [
    "# Homeworks - Big Data and Public Policy Class"
   ]
  },
  {
   "cell_type": "markdown",
   "metadata": {},
   "source": [
    "The objective of the following homework is to **bring to practice the tools studied in class** by conducting step by step a first big data project. We advise that you do it in parallel with the lectures: the relation between the project steps and the lectures is indicated below. \n",
    "\n",
    "You will build several **machine learning models that will predict continuous and categorical variables based on data coming from webscraping and/or an API**. \n",
    "\n",
    "We propose that you predict the **daily stock price data of a large company** (of your choice) **based on the company's tweets**. You can chose a company from one of the [major stock indices](https://www.wikiwand.com/en/List_of_stock_market_indices). \n",
    "\n",
    "---------------------------\n",
    "After having decided the setting (your own or the company + corresponding timespan) that you will study, you should follow the following steps:\n",
    "\n",
    "**Step 1a: `X` variables** [week 2]\n",
    "- Fetch the data using the **twitter API** or any other API or website that you are interested in.\n",
    "- Beware of the rate limits and organize your program so as to overcome them if needed\n",
    "- The data should include some text, but might also have other interesting variables (retweets, favorites...)\n",
    "- Create some (non-text based) `X_num` variables that you will use for the prediction\n",
    "\n",
    "**Step 1b: continuous `y` variables** [week 2]\n",
    "- Fetching the data: \n",
    "    - if you work on the suggested idea, you can easily access daily stock prices using the [`yfinance` package](https://pypi.org/project/yfinance/)  (see below)\n",
    "    - otherwise, you can find some interesting data listed in the syllabus\n",
    "\n",
    "**Step 1c: merge `X_num` and `y`** [week 2]\n",
    "- Beware of the temporality: in the case of the proposed study on stock market prices, you will have to deal with the fact that the X is at the tweet level while `y` is daily. \n",
    "\n",
<<<<<<< HEAD
    "***Milestone 1 - March 24th*** *You can submit the previous steps as a first notebook.*\n",
    "\n",
    "**Sample split.** Do the standard 80% / 20% training/test split using all days in the data. In addition, do a separate temporal split where the training set is the first 80% of days in the time series.\n",
    "\n",
=======
>>>>>>> upstream/master
    "**For all machine learning models**, report performance measure in test and train samples.\n",
    "\n",
    "**Step 2a: estimate different regression models using `X_num` and `y`** [week 3]\n",
    "\n",
<<<<<<< HEAD
    "***Milestone 2 - March 31th***  *You can submit the previous steps as a second notebook.*\n",
    "\n",
    "**Step 3: text analysis** [week 4]\n",
    "- Featurize tweets (or another text dataset related to your subject): transform the text into a standard document-level dataset `X_doc`\n",
    "\n",
    "**Step 2b: estimate different regression models using `X_doc` and `y`** [week 3]\n",
    "\n",
    "**Step 4: estimate a classification models** [week 5]\n",
    "- propose a categorical variable `y_calc` that you can compute from the continuous one (`y`) (e.g. positive or negative growthin stock prices). For the `X` dimension, you can use `X_doc` or `X_num` or both. \n",
    "- you can use any other categorical variable that you find relevant \n",
    "\n",
    "***Milestone 3 - April 21th***  *You can submit the previous steps as a third notebook.*\n",
    "\n",
=======
    "**Step 3: text analysis** [week 4]\n",
    "- Featurize tweets (or another text dataset related to your subject): transform the text into a standard document-level dataset `X_doc`\n",
    "\n",
    "**Step 2b: machine learning models using the text dimension `X_doc`** [week 3]\n",
    "\n",
    "**Step 4: estimate a classification models** [week 5]\n",
    "- propose a categorical variable `y_calc` that you can compute from the continuous one (`y`) (e.g. positive or negative growthin stock prices)\n",
    "- you can use any other categorical variable that you find relevant \n",
    "\n",
>>>>>>> upstream/master
    "**Step 6: Dimension reduction** [week 6]\n",
    "- Use one of the dimension reductions methods to dimension-reduce the features\n",
    "    - PCA or topic model (LDA or STM) or k-means clustering on the featurized text `X_doc`\n",
    "- Run another classifier\n",
    "\n",
    "**Step bonus: Econometric identification** [week 8]\n",
    "- Find an exogenous shock affecting this firm (but not all the firms) and a control group of firms not affected\n",
    "    - example: a natural disaster/shock to the exchange rate/change in ownership... affects the functionning of this firm but not the other firms of the stock market index.  \n",
    "- scale up the previous data collection to the firms in the control group\n",
    "- use one of the technique studied in class to causaly identify the impact of the exogenous shock on the stock market of the affected firm\n",
    "\n",
<<<<<<< HEAD
    "***Milestone 4 - May 17th*** *You can submit the previous steps as a last notebook.*\n",
    "\n",
    "---------------------------\n",
    "**Requirement for completion grade**: \n",
    "- the homework should be done in **groups of 1 or 2 persons** \n",
    "- the homework will have to be submitted as a (Python or R) **notebooks**\n",
    "- you can give them back at the indicated **milestone** or on May 17th (no homework will be accepted after May 17th)\n",
    "- the notebooks should contain at least **three graphs** (overall)\n",
    "- each notebook should run from the beginning to then end, but:\n",
=======
    "\n",
    "---------------------------\n",
    "**Requirement for completion grade**: \n",
    "- the homework will have to be submitted as a (Python or R) notebook\n",
    "- it should contain at least three graphs\n",
    "- it should run from the begining to then end, but:\n",
>>>>>>> upstream/master
    "    - beware of paths to folders that are on your computer but not on mine\n",
    "    - if you have such a path, you can: \n",
    "        - have the data downloaded in the notebook directly\n",
    "        - import your data in a github (or any other online storage) folder that the notebook can access  \n",
    "    - indicate if the notebook takes more than 30 minutes to run\n",
<<<<<<< HEAD
    "- do not write us emails regarding the homework, ask your questions on the **forum**, it will benefit everyone for sure! \n",
    "\n",
    "---------------------------\n",
    "\n",
    "**Alternative homework**\n",
    "\n",
    "If you prefer, we propose for two persons at most to translate all python notebooks of the class into R. This work would count as your homework for the class. Contact us in advance if you want to do this."
=======
    "- do not write us emails regarding the homework, ask your questions in the forum, it will benefit everyone for sure! "
   ]
  },
  {
   "cell_type": "code",
   "execution_count": null,
   "metadata": {},
   "outputs": [],
   "source": [
    "group of 1 or 2 ? \n",
    "15 minutes appointment on March 17"
>>>>>>> upstream/master
   ]
  },
  {
   "cell_type": "code",
   "execution_count": 1,
   "metadata": {},
   "outputs": [],
   "source": [
    "# Import the yfinance. \n",
    "# If you get module not found error the run !pip install yfinance from your Jupyter notebook\n",
    "import yfinance as yf"
   ]
<<<<<<< HEAD
=======
  },
  {
   "cell_type": "code",
   "execution_count": null,
   "metadata": {},
   "outputs": [],
   "source": []
  },
  {
   "cell_type": "code",
   "execution_count": null,
   "metadata": {},
   "outputs": [],
   "source": []
>>>>>>> upstream/master
  }
 ],
 "metadata": {
  "kernelspec": {
   "display_name": "Python 3",
   "language": "python",
   "name": "python3"
  },
  "language_info": {
   "codemirror_mode": {
    "name": "ipython",
    "version": 3
   },
   "file_extension": ".py",
   "mimetype": "text/x-python",
   "name": "python",
   "nbconvert_exporter": "python",
   "pygments_lexer": "ipython3",
<<<<<<< HEAD
   "version": "3.7.3"
=======
   "version": "3.6.9"
>>>>>>> upstream/master
  },
  "toc": {
   "base_numbering": 1,
   "nav_menu": {},
   "number_sections": true,
   "sideBar": true,
   "skip_h1_title": false,
   "title_cell": "Table of Contents",
   "title_sidebar": "Contents",
   "toc_cell": false,
   "toc_position": {
    "height": "calc(100% - 180px)",
    "left": "10px",
    "top": "150px",
    "width": "165px"
   },
   "toc_section_display": true,
   "toc_window_display": true
  },
  "varInspector": {
   "cols": {
    "lenName": 16,
    "lenType": 16,
    "lenVar": 40
   },
   "kernels_config": {
    "python": {
     "delete_cmd_postfix": "",
     "delete_cmd_prefix": "del ",
     "library": "var_list.py",
     "varRefreshCmd": "print(var_dic_list())"
    },
    "r": {
     "delete_cmd_postfix": ") ",
     "delete_cmd_prefix": "rm(",
     "library": "var_list.r",
     "varRefreshCmd": "cat(var_dic_list()) "
    }
   },
   "types_to_exclude": [
    "module",
    "function",
    "builtin_function_or_method",
    "instance",
    "_Feature"
   ],
   "window_display": false
  }
 },
 "nbformat": 4,
 "nbformat_minor": 2
}
